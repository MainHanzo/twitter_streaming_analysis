{
 "cells": [
  {
   "cell_type": "code",
   "execution_count": 2,
   "metadata": {},
   "outputs": [],
   "source": [
    "import os\n",
    "os.environ['PYSPARK_SUBMIT_ARGS'] = '--packages org.apache.spark:spark-streaming-kafka-0-8_2.11:2.1.0,org.apache.spark:spark-sql-kafka-0-10_2.11:2.1.0,com.databricks:spark-avro_2.11:3.2.0 pyspark-shell'"
   ]
  },
  {
   "cell_type": "code",
   "execution_count": 1,
   "metadata": {},
   "outputs": [],
   "source": [
    "from pytwitter import StreamApi\n",
    "import json\n",
    "import os\n",
    "import credentials # Import api/access_token keys from credentials.py\n",
    "import settings # Import related setting constants from settings.py \n",
    "import pykafka"
   ]
  },
  {
   "cell_type": "code",
   "execution_count": null,
   "metadata": {},
   "outputs": [],
   "source": [
    "from pyspark import SparkContext\n",
    "from pyspark.streaming import StreamingContext\n"
   ]
  },
  {
   "cell_type": "code",
   "execution_count": 16,
   "metadata": {},
   "outputs": [],
   "source": [
    "class MyStream(StreamApi):\n",
    "    def __init__(self, bearer_token):\n",
    "        StreamApi.__init__(self, bearer_token=bearer_token)\n",
    "        self.__file_index = 0\n",
    "    \n",
    "    def on_tweet(self, tweet):\n",
    "        print(tweet)\n",
    "        tweets_file_path = 'tweets_json/{}.json'.format(self.__file_index)\n",
    "        with open(tweets_file_path, 'w', encoding='utf-8') as outfile:\n",
    "                json.dump(tweet, outfile, ensure_ascii=False)\n",
    "        while os.path.exists(tweets_file_path) and os.stat(tweets_file_path).st_size > 2**10:\n",
    "            self.__file_index += 1 \n",
    "            tweets_file_path = 'tweets_json/{}.json'.format(self.__file_index)\n",
    "\n",
    "            "
   ]
  },
  {
   "cell_type": "code",
   "execution_count": 13,
   "metadata": {},
   "outputs": [],
   "source": [
    "rules = {\n",
    "        \"add\": [\n",
    "            {\"value\": \"cat has:media\", \"tag\": \"cats with media\"},\n",
    "            {\"value\": \"cat has:media -grumpy\", \"tag\": \"happy cats with media\"}\n",
    "        ]\n",
    "     }"
   ]
  },
  {
   "cell_type": "code",
   "execution_count": 17,
   "metadata": {},
   "outputs": [
    {
     "name": "stdout",
     "output_type": "stream",
     "text": [
      "{'data': {'id': '1545043971441041409', 'text': 'RT @cat_mparadise: https://t.co/zfEm8AMnqm'}, 'matching_rules': [{'id': '1545037781386153986', 'tag': 'happy cats with media'}, {'id': '1545037781386153987', 'tag': 'cats with media'}]}\n",
      "{'data': {'id': '1545043973240016896', 'text': 'RT @Dexerto: There is a game coming out where you play as a cat roaming a dystopian future city\\n\\nhttps://t.co/jdnG3IirRJ'}, 'matching_rules': [{'id': '1545037781386153986', 'tag': 'happy cats with media'}, {'id': '1545037781386153987', 'tag': 'cats with media'}]}\n",
      "{'data': {'id': '1545043976964558849', 'text': 'RT @twtCats: if i were a cat https://t.co/lhrGQVvx91'}, 'matching_rules': [{'id': '1545037781386153986', 'tag': 'happy cats with media'}, {'id': '1545037781386153987', 'tag': 'cats with media'}]}\n",
      "{'data': {'id': '1545043975815409664', 'text': 'RT @Dexerto: There is a game coming out where you play as a cat roaming a dystopian future city\\n\\nhttps://t.co/jdnG3IirRJ'}, 'matching_rules': [{'id': '1545037781386153986', 'tag': 'happy cats with media'}, {'id': '1545037781386153987', 'tag': 'cats with media'}]}\n",
      "{'data': {'id': '1545043980085121024', 'text': 'RT @Ryuunne: cat vacation continues https://t.co/sJcYXyYDR8'}, 'matching_rules': [{'id': '1545037781386153986', 'tag': 'happy cats with media'}, {'id': '1545037781386153987', 'tag': 'cats with media'}]}\n",
      "{'data': {'id': '1545043984493342723', 'text': 'RT @koumeigaryou: So uh\\n\\nthe context for the \"gay cat\" video retweet\\n\\ngay cat. and some other people. https://t.co/AKP24lzmzx'}, 'matching_rules': [{'id': '1545037781386153986', 'tag': 'happy cats with media'}, {'id': '1545037781386153987', 'tag': 'cats with media'}]}\n",
      "{'data': {'id': '1545043987978866692', 'text': '@BSCGemsAlert Join us :\\nTwitter\\n@Cat_CAT_Token \\nTelegram\\nhttps://t.co/AMnmOEj6Ix\\nWebsite\\nhttps://t.co/ByGYaPyTnp\\nlivecoinwatch : https://t.co/fyoaTyreim\\n\\n#cattoken #cattokenbsc #altcoin #memecoin  #BSCGems #1000Xgem #newgems\\n\\n@catmemesbro https://t.co/QZFeXBUpxP'}, 'matching_rules': [{'id': '1545037781386153986', 'tag': 'happy cats with media'}, {'id': '1545037781386153987', 'tag': 'cats with media'}]}\n",
      "{'data': {'id': '1545043990088601603', 'text': 'RT @A_i: fast travel as a cat https://t.co/8PAQuBnbFL'}, 'matching_rules': [{'id': '1545037781386153986', 'tag': 'happy cats with media'}, {'id': '1545037781386153987', 'tag': 'cats with media'}]}\n",
      "{'data': {'id': '1545043992982724609', 'text': 'RT @AmbassadorAries: Striking a pose! Happy Thursday! 💚 #vogue #cat https://t.co/qdrahig6JN'}, 'matching_rules': [{'id': '1545037781386153986', 'tag': 'happy cats with media'}, {'id': '1545037781386153987', 'tag': 'cats with media'}]}\n",
      "{'data': {'id': '1545043991879593986', 'text': 'RT @Cat__Happy: Hello, I can be loved by anyone unconditionally, whether or not I have a disability 🐱\\U0001f90d❤️ https://t.co/mPfYVRrbEC'}, 'matching_rules': [{'id': '1545037781386153986', 'tag': 'happy cats with media'}, {'id': '1545037781386153987', 'tag': 'cats with media'}]}\n",
      "{'data': {'id': '1545043998523342849', 'text': 'RT @CatGod_Nft: 🐱🐱🐱Each cat god has different abilities, but my favorite is... https://t.co/PUy8XCniru'}, 'matching_rules': [{'id': '1545037781386153986', 'tag': 'happy cats with media'}, {'id': '1545037781386153987', 'tag': 'cats with media'}]}\n",
      "{'data': {'id': '1545044007381717002', 'text': 'RT @A_i: fast travel as a cat https://t.co/8PAQuBnbFL'}, 'matching_rules': [{'id': '1545037781386153986', 'tag': 'happy cats with media'}, {'id': '1545037781386153987', 'tag': 'cats with media'}]}\n",
      "{'data': {'id': '1545044010930081795', 'text': '@maliak__ man, now i have totally -10000% chances https://t.co/vYATZdKHhU'}, 'matching_rules': [{'id': '1545037781386153986', 'tag': 'happy cats with media'}, {'id': '1545037781386153987', 'tag': 'cats with media'}]}\n",
      "{'data': {'id': '1545044015933841408', 'text': 'a cat we met \\U0001f979 https://t.co/AegWUgGVS4'}, 'matching_rules': [{'id': '1545037781386153986', 'tag': 'happy cats with media'}, {'id': '1545037781386153987', 'tag': 'cats with media'}]}\n",
      "{'data': {'id': '1545044015946420227', 'text': 'RT @jordydraws: Cat felix\\n\\nCat felix https://t.co/MImUngM8h2'}, 'matching_rules': [{'id': '1545037781386153986', 'tag': 'happy cats with media'}, {'id': '1545037781386153987', 'tag': 'cats with media'}]}\n",
      "{'data': {'id': '1545044018546954240', 'text': 'RT @dojacatbrasiI: Doja Cat via TikTok!🎥 https://t.co/RADHl2BP1E'}, 'matching_rules': [{'id': '1545037781386153986', 'tag': 'happy cats with media'}, {'id': '1545037781386153987', 'tag': 'cats with media'}]}\n",
      "{'data': {'id': '1545044015753469956', 'text': 'RT @leeknow_s_cat: STAY😭😭😭😭 please vote for Changbin! Join the FANTOO team if you can😭 less than 3 hours left🚨🚨🚨 https://t.co/E9vaHqeHDw'}, 'matching_rules': [{'id': '1545037781386153986', 'tag': 'happy cats with media'}, {'id': '1545037781386153987', 'tag': 'cats with media'}]}\n",
      "{'data': {'id': '1545044021461995520', 'text': 'RT @_DedePaint_: Sapnap my beloved 🧡\\n\\ncat doodles #42\\n#sapnapfanart https://t.co/APE7yAV2XO'}, 'matching_rules': [{'id': '1545037781386153986', 'tag': 'happy cats with media'}, {'id': '1545037781386153987', 'tag': 'cats with media'}]}\n",
      "{'data': {'id': '1545044018970517504', 'text': \"I really can't believe I spent so many years running around doing fancy things instead of just demanding that my parents hand over my cats. Pandemic Cat Lady is my best and most authentic era https://t.co/gGJxeOjIu9\"}, 'matching_rules': [{'id': '1545037781386153986', 'tag': 'happy cats with media'}, {'id': '1545037781386153987', 'tag': 'cats with media'}]}\n",
      "{'data': {'id': '1545044021352886273', 'text': 'RT @A_i: fast travel as a cat https://t.co/8PAQuBnbFL'}, 'matching_rules': [{'id': '1545037781386153986', 'tag': 'happy cats with media'}, {'id': '1545037781386153987', 'tag': 'cats with media'}]}\n",
      "{'data': {'id': '1545044021889748994', 'text': 'RT @twtCats: have i seen any cat in the street\\nme: https://t.co/Sa4yZnYbmx'}, 'matching_rules': [{'id': '1545037781386153986', 'tag': 'happy cats with media'}, {'id': '1545037781386153987', 'tag': 'cats with media'}]}\n",
      "{'data': {'id': '1545044019650039808', 'text': '@CalicoCrew1 @Im_Moo_The_Cat Bruin and Sox https://t.co/dnCLZ2kD5y'}, 'matching_rules': [{'id': '1545037781386153986', 'tag': 'happy cats with media'}, {'id': '1545037781386153987', 'tag': 'cats with media'}]}\n",
      "{'data': {'id': '1545044027032367104', 'text': 'RT @Akarithehuman: Alban the calico cat 🐈\\n\\n #AlbanKnoxArt https://t.co/K7mxx4THvv'}, 'matching_rules': [{'id': '1545037781386153986', 'tag': 'happy cats with media'}, {'id': '1545037781386153987', 'tag': 'cats with media'}]}\n",
      "{'data': {'id': '1545044025563983873', 'text': 'RT @giantcat9: Does this mean Larry the Cat is now in charge? https://t.co/WfQpYOuh6o'}, 'matching_rules': [{'id': '1545037781386153986', 'tag': 'happy cats with media'}, {'id': '1545037781386153987', 'tag': 'cats with media'}]}\n",
      "{'data': {'id': '1545044024809394176', 'text': '@Cat_CAT_Token @elonmusk @_SuccessMinded_ @pmarca Join us :\\nTwitter\\n@Cat_CAT_Token \\nTelegram\\nhttps://t.co/ehBRPzhOyT\\nWebsite\\nhttps://t.co/12tgpJKbQE\\nlivecoinwatch : https://t.co/RzF3ogPSTt\\n\\n#cattoken #cattokenbsc #altcoin #memecoin  #BSCGems #1000Xgem #newgems\\n\\n@catmemesbro https://t.co/0YikmKunBj'}, 'matching_rules': [{'id': '1545037781386153986', 'tag': 'happy cats with media'}, {'id': '1545037781386153987', 'tag': 'cats with media'}]}\n",
      "{'data': {'id': '1545044031272624128', 'text': 'RT @twtCats: have i seen any cat in the street\\nme: https://t.co/Sa4yZnYbmx'}, 'matching_rules': [{'id': '1545037781386153986', 'tag': 'happy cats with media'}, {'id': '1545037781386153987', 'tag': 'cats with media'}]}\n",
      "{'data': {'id': '1545044038813749256', 'text': 'RT @TheAnything_Bot: wet cat was successful at school! https://t.co/uiSdrxFLY8'}, 'matching_rules': [{'id': '1545037781386153986', 'tag': 'happy cats with media'}, {'id': '1545037781386153987', 'tag': 'cats with media'}]}\n",
      "{'data': {'id': '1545044037396303872', 'text': '@CATBRAINCELL Kitten teefs https://t.co/7LCCnfe4oW'}, 'matching_rules': [{'id': '1545037781386153986', 'tag': 'happy cats with media'}, {'id': '1545037781386153987', 'tag': 'cats with media'}]}\n",
      "{'data': {'id': '1545044036632907776', 'text': 'RT @FCBarcelona_cat: 𝐀𝐍𝐃𝐑𝐄𝐀𝐒 𝐂𝐇𝐑𝐈𝐒𝐓𝐄𝐍𝐒𝐄𝐍 https://t.co/ZdRh677rqO'}, 'matching_rules': [{'id': '1545037781386153986', 'tag': 'happy cats with media'}, {'id': '1545037781386153987', 'tag': 'cats with media'}]}\n",
      "{'data': {'id': '1545044038025261057', 'text': \"Black Harris Tweed Kitty **LIMITED EDITION of 3!**\\nNow on Etsy, at:\\nhttps://t.co/IBxXir5VZa\\nI had a tiny bit of black Harris Tweed, just enough to make three cats. If you need a small black tweedy cat in your life, you better not hang about... Once they're gone, they're gone! https://t.co/ytwvg5vQg1\"}, 'matching_rules': [{'id': '1545037781386153986', 'tag': 'happy cats with media'}, {'id': '1545037781386153987', 'tag': 'cats with media'}]}\n",
      "{'data': {'id': '1545044037593231363', 'text': 'RT @Cat__Happy: Hello, I can be loved by anyone unconditionally, whether or not I have a disability 🐱\\U0001f90d❤️ https://t.co/mPfYVRrbEC'}, 'matching_rules': [{'id': '1545037781386153986', 'tag': 'happy cats with media'}, {'id': '1545037781386153987', 'tag': 'cats with media'}]}\n",
      "{'data': {'id': '1545044037224185858', 'text': 'Look at this cat right now https://t.co/5hnTPcMENC'}, 'matching_rules': [{'id': '1545037781386153986', 'tag': 'happy cats with media'}, {'id': '1545037781386153987', 'tag': 'cats with media'}]}\n",
      "{'data': {'id': '1545044042140254208', 'text': 'RT @A_i: fast travel as a cat https://t.co/8PAQuBnbFL'}, 'matching_rules': [{'id': '1545037781386153986', 'tag': 'happy cats with media'}, {'id': '1545037781386153987', 'tag': 'cats with media'}]}\n",
      "{'data': {'id': '1545044044363239424', 'text': 'RT @Dexerto: There is a game coming out where you play as a cat roaming a dystopian future city\\n\\nhttps://t.co/jdnG3IirRJ'}, 'matching_rules': [{'id': '1545037781386153986', 'tag': 'happy cats with media'}, {'id': '1545037781386153987', 'tag': 'cats with media'}]}\n",
      "{'data': {'id': '1545044043825946628', 'text': \"Rolando E. Vásquez arriba a #FaberAndorra. Durant l'estada treballarà en el seu projecte que examina  el sagnant període conegut com l'auge de l'extracció del cautxú, principis del segle XX a la selva del nord del Perú.                                     https://t.co/ukFPCQAnwb https://t.co/Aa0c8CgkoZ\"}, 'matching_rules': [{'id': '1545037781386153986', 'tag': 'happy cats with media'}, {'id': '1545037781386153987', 'tag': 'cats with media'}]}\n",
      "{'data': {'id': '1545044047827390465', 'text': '@100xAltcoinGems Join us :\\nTwitter\\n@Cat_CAT_Token \\nTelegram\\nhttps://t.co/AMnmOEj6Ix\\nWebsite\\nhttps://t.co/ByGYaPyTnp\\nlivecoinwatch : https://t.co/fyoaTyreim\\n\\n#cattoken #cattokenbsc #altcoin #memecoin  #BSCGems #1000Xgem #newgems\\n\\n@catmemesbro https://t.co/9C7AQ5BBnt'}, 'matching_rules': [{'id': '1545037781386153986', 'tag': 'happy cats with media'}, {'id': '1545037781386153987', 'tag': 'cats with media'}]}\n",
      "{'data': {'id': '1545044046741024782', 'text': 'Boss Cat Rocket Club #5551 was sold on https://t.co/qkumqP3kis for ₳1,555 ($723.74)\\n\\nTraits:\\nFur: Zombie (0.97%)\\nEyes: Meh (3.26%)\\nMouth: Lollipop (3.78%)\\nHat: Brushup Aniki (1.30%)\\nEarring: Silver Hoop (15.85%)\\nClothes: Pinstripe Suit (1.51%) https://t.co/AFNTYQYQx2'}, 'matching_rules': [{'id': '1545037781386153986', 'tag': 'happy cats with media'}, {'id': '1545037781386153987', 'tag': 'cats with media'}]}\n",
      "{'data': {'id': '1545044044966797319', 'text': 'RT @Dexerto: There is a game coming out where you play as a cat roaming a dystopian future city\\n\\nhttps://t.co/jdnG3IirRJ'}, 'matching_rules': [{'id': '1545037781386153986', 'tag': 'happy cats with media'}, {'id': '1545037781386153987', 'tag': 'cats with media'}]}\n",
      "{'data': {'id': '1545044045331714048', 'text': 'RT @talkfcb_: Xavi and Kessie 🤝 https://t.co/xvUJOU2N0V'}, 'matching_rules': [{'id': '1545037781386153986', 'tag': 'happy cats with media'}, {'id': '1545037781386153987', 'tag': 'cats with media'}]}\n",
      "{'data': {'id': '1545044046669787139', 'text': '캡한게 죄다 오로라밖에없노 근데 진짜 너무신기함 이 레즈폭격기들을 한남둘이서 만들엇다고..??? 시발;; 커서보니까 또 색다름 애새끼때봣을때는 걍 맞는거 아푸겟다..끗이엿는데 https://t.co/fqG6AHRG3a'}, 'matching_rules': [{'id': '1545037781386153986', 'tag': 'happy cats with media'}, {'id': '1545037781386153987', 'tag': 'cats with media'}]}\n",
      "{'data': {'id': '1545044052797640708', 'text': 'RT @Cryptogeekcalls: is it going to be a \"Dead Cat Bounce\" geeks?? #BNB #Bitcoin #ETH #Cryptocurency https://t.co/ORyBZUma08'}, 'matching_rules': [{'id': '1545037781386153986', 'tag': 'happy cats with media'}, {'id': '1545037781386153987', 'tag': 'cats with media'}]}\n",
      "{'data': {'id': '1545044059533615107', 'text': 'RT @scottygb: Here is BBC News is zooming in on Larry the Cat https://t.co/O8AIUa3J4z'}, 'matching_rules': [{'id': '1545037781386153986', 'tag': 'happy cats with media'}, {'id': '1545037781386153987', 'tag': 'cats with media'}]}\n"
     ]
    },
    {
     "ename": "KeyboardInterrupt",
     "evalue": "",
     "output_type": "error",
     "traceback": [
      "\u001b[0;31m---------------------------------------------------------------------------\u001b[0m",
      "\u001b[0;31mKeyboardInterrupt\u001b[0m                         Traceback (most recent call last)",
      "\u001b[0;32m/var/folders/xz/v6q9ksld1134sh8phtl83fqc0000gn/T/ipykernel_59288/1339992748.py\u001b[0m in \u001b[0;36m<module>\u001b[0;34m\u001b[0m\n\u001b[1;32m      1\u001b[0m \u001b[0mstream\u001b[0m \u001b[0;34m=\u001b[0m \u001b[0mMyStream\u001b[0m\u001b[0;34m(\u001b[0m\u001b[0mbearer_token\u001b[0m\u001b[0;34m=\u001b[0m\u001b[0mcredentials\u001b[0m\u001b[0;34m.\u001b[0m\u001b[0mBEARER_TOKEN\u001b[0m\u001b[0;34m)\u001b[0m\u001b[0;34m\u001b[0m\u001b[0;34m\u001b[0m\u001b[0m\n\u001b[1;32m      2\u001b[0m \u001b[0mstream\u001b[0m\u001b[0;34m.\u001b[0m\u001b[0mmanage_rules\u001b[0m\u001b[0;34m(\u001b[0m\u001b[0mrules\u001b[0m\u001b[0;34m=\u001b[0m\u001b[0mrules\u001b[0m\u001b[0;34m)\u001b[0m\u001b[0;34m\u001b[0m\u001b[0;34m\u001b[0m\u001b[0m\n\u001b[0;32m----> 3\u001b[0;31m \u001b[0mstream\u001b[0m\u001b[0;34m.\u001b[0m\u001b[0msearch_stream\u001b[0m\u001b[0;34m(\u001b[0m\u001b[0mreturn_json\u001b[0m\u001b[0;34m=\u001b[0m\u001b[0;32mTrue\u001b[0m\u001b[0;34m)\u001b[0m\u001b[0;34m\u001b[0m\u001b[0;34m\u001b[0m\u001b[0m\n\u001b[0m\u001b[1;32m      4\u001b[0m \u001b[0;31m# stream.sample_stream(return_json=True)\u001b[0m\u001b[0;34m\u001b[0m\u001b[0;34m\u001b[0m\u001b[0;34m\u001b[0m\u001b[0m\n",
      "\u001b[0;32m/usr/local/anaconda3/lib/python3.7/site-packages/pytwitter/streaming.py\u001b[0m in \u001b[0;36msearch_stream\u001b[0;34m(self, backfill_minutes, tweet_fields, expansions, user_fields, media_fields, place_fields, poll_fields, return_json)\u001b[0m\n\u001b[1;32m    267\u001b[0m             \u001b[0murl\u001b[0m\u001b[0;34m=\u001b[0m\u001b[0;34mf\"{self.BASE_URL}/tweets/search/stream\"\u001b[0m\u001b[0;34m,\u001b[0m\u001b[0;34m\u001b[0m\u001b[0;34m\u001b[0m\u001b[0m\n\u001b[1;32m    268\u001b[0m             \u001b[0mparams\u001b[0m\u001b[0;34m=\u001b[0m\u001b[0margs\u001b[0m\u001b[0;34m,\u001b[0m\u001b[0;34m\u001b[0m\u001b[0;34m\u001b[0m\u001b[0m\n\u001b[0;32m--> 269\u001b[0;31m             \u001b[0mreturn_json\u001b[0m\u001b[0;34m=\u001b[0m\u001b[0mreturn_json\u001b[0m\u001b[0;34m,\u001b[0m\u001b[0;34m\u001b[0m\u001b[0;34m\u001b[0m\u001b[0m\n\u001b[0m\u001b[1;32m    270\u001b[0m         )\n\u001b[1;32m    271\u001b[0m \u001b[0;34m\u001b[0m\u001b[0m\n",
      "\u001b[0;32m/usr/local/anaconda3/lib/python3.7/site-packages/pytwitter/streaming.py\u001b[0m in \u001b[0;36m_connect\u001b[0;34m(self, url, params, return_json)\u001b[0m\n\u001b[1;32m    103\u001b[0m                     \u001b[0mlogger\u001b[0m\u001b[0;34m.\u001b[0m\u001b[0mdebug\u001b[0m\u001b[0;34m(\u001b[0m\u001b[0mresp\u001b[0m\u001b[0;34m.\u001b[0m\u001b[0mheaders\u001b[0m\u001b[0;34m)\u001b[0m\u001b[0;34m\u001b[0m\u001b[0;34m\u001b[0m\u001b[0m\n\u001b[1;32m    104\u001b[0m                     \u001b[0;32mif\u001b[0m \u001b[0mresp\u001b[0m\u001b[0;34m.\u001b[0m\u001b[0mstatus_code\u001b[0m \u001b[0;34m==\u001b[0m \u001b[0;36m200\u001b[0m\u001b[0;34m:\u001b[0m\u001b[0;34m\u001b[0m\u001b[0;34m\u001b[0m\u001b[0m\n\u001b[0;32m--> 105\u001b[0;31m                         \u001b[0;32mfor\u001b[0m \u001b[0mline\u001b[0m \u001b[0;32min\u001b[0m \u001b[0mresp\u001b[0m\u001b[0;34m.\u001b[0m\u001b[0miter_lines\u001b[0m\u001b[0;34m(\u001b[0m\u001b[0mchunk_size\u001b[0m\u001b[0;34m=\u001b[0m\u001b[0mself\u001b[0m\u001b[0;34m.\u001b[0m\u001b[0mchunk_size\u001b[0m\u001b[0;34m)\u001b[0m\u001b[0;34m:\u001b[0m\u001b[0;34m\u001b[0m\u001b[0;34m\u001b[0m\u001b[0m\n\u001b[0m\u001b[1;32m    106\u001b[0m                             \u001b[0;32mif\u001b[0m \u001b[0mline\u001b[0m\u001b[0;34m:\u001b[0m\u001b[0;34m\u001b[0m\u001b[0;34m\u001b[0m\u001b[0m\n\u001b[1;32m    107\u001b[0m                                 \u001b[0mself\u001b[0m\u001b[0;34m.\u001b[0m\u001b[0mon_data\u001b[0m\u001b[0;34m(\u001b[0m\u001b[0mraw_data\u001b[0m\u001b[0;34m=\u001b[0m\u001b[0mline\u001b[0m\u001b[0;34m,\u001b[0m \u001b[0mreturn_json\u001b[0m\u001b[0;34m=\u001b[0m\u001b[0mreturn_json\u001b[0m\u001b[0;34m)\u001b[0m\u001b[0;34m\u001b[0m\u001b[0;34m\u001b[0m\u001b[0m\n",
      "\u001b[0;32m/usr/local/anaconda3/lib/python3.7/site-packages/requests/models.py\u001b[0m in \u001b[0;36miter_lines\u001b[0;34m(self, chunk_size, decode_unicode, delimiter)\u001b[0m\n\u001b[1;32m    865\u001b[0m \u001b[0;34m\u001b[0m\u001b[0m\n\u001b[1;32m    866\u001b[0m         for chunk in self.iter_content(\n\u001b[0;32m--> 867\u001b[0;31m             \u001b[0mchunk_size\u001b[0m\u001b[0;34m=\u001b[0m\u001b[0mchunk_size\u001b[0m\u001b[0;34m,\u001b[0m \u001b[0mdecode_unicode\u001b[0m\u001b[0;34m=\u001b[0m\u001b[0mdecode_unicode\u001b[0m\u001b[0;34m\u001b[0m\u001b[0;34m\u001b[0m\u001b[0m\n\u001b[0m\u001b[1;32m    868\u001b[0m         ):\n\u001b[1;32m    869\u001b[0m \u001b[0;34m\u001b[0m\u001b[0m\n",
      "\u001b[0;32m/usr/local/anaconda3/lib/python3.7/site-packages/requests/models.py\u001b[0m in \u001b[0;36mgenerate\u001b[0;34m()\u001b[0m\n\u001b[1;32m    814\u001b[0m             \u001b[0;32mif\u001b[0m \u001b[0mhasattr\u001b[0m\u001b[0;34m(\u001b[0m\u001b[0mself\u001b[0m\u001b[0;34m.\u001b[0m\u001b[0mraw\u001b[0m\u001b[0;34m,\u001b[0m \u001b[0;34m\"stream\"\u001b[0m\u001b[0;34m)\u001b[0m\u001b[0;34m:\u001b[0m\u001b[0;34m\u001b[0m\u001b[0;34m\u001b[0m\u001b[0m\n\u001b[1;32m    815\u001b[0m                 \u001b[0;32mtry\u001b[0m\u001b[0;34m:\u001b[0m\u001b[0;34m\u001b[0m\u001b[0;34m\u001b[0m\u001b[0m\n\u001b[0;32m--> 816\u001b[0;31m                     \u001b[0;32mfor\u001b[0m \u001b[0mchunk\u001b[0m \u001b[0;32min\u001b[0m \u001b[0mself\u001b[0m\u001b[0;34m.\u001b[0m\u001b[0mraw\u001b[0m\u001b[0;34m.\u001b[0m\u001b[0mstream\u001b[0m\u001b[0;34m(\u001b[0m\u001b[0mchunk_size\u001b[0m\u001b[0;34m,\u001b[0m \u001b[0mdecode_content\u001b[0m\u001b[0;34m=\u001b[0m\u001b[0;32mTrue\u001b[0m\u001b[0;34m)\u001b[0m\u001b[0;34m:\u001b[0m\u001b[0;34m\u001b[0m\u001b[0;34m\u001b[0m\u001b[0m\n\u001b[0m\u001b[1;32m    817\u001b[0m                         \u001b[0;32myield\u001b[0m \u001b[0mchunk\u001b[0m\u001b[0;34m\u001b[0m\u001b[0;34m\u001b[0m\u001b[0m\n\u001b[1;32m    818\u001b[0m                 \u001b[0;32mexcept\u001b[0m \u001b[0mProtocolError\u001b[0m \u001b[0;32mas\u001b[0m \u001b[0me\u001b[0m\u001b[0;34m:\u001b[0m\u001b[0;34m\u001b[0m\u001b[0;34m\u001b[0m\u001b[0m\n",
      "\u001b[0;32m/usr/local/anaconda3/lib/python3.7/site-packages/urllib3/response.py\u001b[0m in \u001b[0;36mstream\u001b[0;34m(self, amt, decode_content)\u001b[0m\n\u001b[1;32m    570\u001b[0m         \"\"\"\n\u001b[1;32m    571\u001b[0m         \u001b[0;32mif\u001b[0m \u001b[0mself\u001b[0m\u001b[0;34m.\u001b[0m\u001b[0mchunked\u001b[0m \u001b[0;32mand\u001b[0m \u001b[0mself\u001b[0m\u001b[0;34m.\u001b[0m\u001b[0msupports_chunked_reads\u001b[0m\u001b[0;34m(\u001b[0m\u001b[0;34m)\u001b[0m\u001b[0;34m:\u001b[0m\u001b[0;34m\u001b[0m\u001b[0;34m\u001b[0m\u001b[0m\n\u001b[0;32m--> 572\u001b[0;31m             \u001b[0;32mfor\u001b[0m \u001b[0mline\u001b[0m \u001b[0;32min\u001b[0m \u001b[0mself\u001b[0m\u001b[0;34m.\u001b[0m\u001b[0mread_chunked\u001b[0m\u001b[0;34m(\u001b[0m\u001b[0mamt\u001b[0m\u001b[0;34m,\u001b[0m \u001b[0mdecode_content\u001b[0m\u001b[0;34m=\u001b[0m\u001b[0mdecode_content\u001b[0m\u001b[0;34m)\u001b[0m\u001b[0;34m:\u001b[0m\u001b[0;34m\u001b[0m\u001b[0;34m\u001b[0m\u001b[0m\n\u001b[0m\u001b[1;32m    573\u001b[0m                 \u001b[0;32myield\u001b[0m \u001b[0mline\u001b[0m\u001b[0;34m\u001b[0m\u001b[0;34m\u001b[0m\u001b[0m\n\u001b[1;32m    574\u001b[0m         \u001b[0;32melse\u001b[0m\u001b[0;34m:\u001b[0m\u001b[0;34m\u001b[0m\u001b[0;34m\u001b[0m\u001b[0m\n",
      "\u001b[0;32m/usr/local/anaconda3/lib/python3.7/site-packages/urllib3/response.py\u001b[0m in \u001b[0;36mread_chunked\u001b[0;34m(self, amt, decode_content)\u001b[0m\n\u001b[1;32m    762\u001b[0m \u001b[0;34m\u001b[0m\u001b[0m\n\u001b[1;32m    763\u001b[0m             \u001b[0;32mwhile\u001b[0m \u001b[0;32mTrue\u001b[0m\u001b[0;34m:\u001b[0m\u001b[0;34m\u001b[0m\u001b[0;34m\u001b[0m\u001b[0m\n\u001b[0;32m--> 764\u001b[0;31m                 \u001b[0mself\u001b[0m\u001b[0;34m.\u001b[0m\u001b[0m_update_chunk_length\u001b[0m\u001b[0;34m(\u001b[0m\u001b[0;34m)\u001b[0m\u001b[0;34m\u001b[0m\u001b[0;34m\u001b[0m\u001b[0m\n\u001b[0m\u001b[1;32m    765\u001b[0m                 \u001b[0;32mif\u001b[0m \u001b[0mself\u001b[0m\u001b[0;34m.\u001b[0m\u001b[0mchunk_left\u001b[0m \u001b[0;34m==\u001b[0m \u001b[0;36m0\u001b[0m\u001b[0;34m:\u001b[0m\u001b[0;34m\u001b[0m\u001b[0;34m\u001b[0m\u001b[0m\n\u001b[1;32m    766\u001b[0m                     \u001b[0;32mbreak\u001b[0m\u001b[0;34m\u001b[0m\u001b[0;34m\u001b[0m\u001b[0m\n",
      "\u001b[0;32m/usr/local/anaconda3/lib/python3.7/site-packages/urllib3/response.py\u001b[0m in \u001b[0;36m_update_chunk_length\u001b[0;34m(self)\u001b[0m\n\u001b[1;32m    692\u001b[0m         \u001b[0;32mif\u001b[0m \u001b[0mself\u001b[0m\u001b[0;34m.\u001b[0m\u001b[0mchunk_left\u001b[0m \u001b[0;32mis\u001b[0m \u001b[0;32mnot\u001b[0m \u001b[0;32mNone\u001b[0m\u001b[0;34m:\u001b[0m\u001b[0;34m\u001b[0m\u001b[0;34m\u001b[0m\u001b[0m\n\u001b[1;32m    693\u001b[0m             \u001b[0;32mreturn\u001b[0m\u001b[0;34m\u001b[0m\u001b[0;34m\u001b[0m\u001b[0m\n\u001b[0;32m--> 694\u001b[0;31m         \u001b[0mline\u001b[0m \u001b[0;34m=\u001b[0m \u001b[0mself\u001b[0m\u001b[0;34m.\u001b[0m\u001b[0m_fp\u001b[0m\u001b[0;34m.\u001b[0m\u001b[0mfp\u001b[0m\u001b[0;34m.\u001b[0m\u001b[0mreadline\u001b[0m\u001b[0;34m(\u001b[0m\u001b[0;34m)\u001b[0m\u001b[0;34m\u001b[0m\u001b[0;34m\u001b[0m\u001b[0m\n\u001b[0m\u001b[1;32m    695\u001b[0m         \u001b[0mline\u001b[0m \u001b[0;34m=\u001b[0m \u001b[0mline\u001b[0m\u001b[0;34m.\u001b[0m\u001b[0msplit\u001b[0m\u001b[0;34m(\u001b[0m\u001b[0;34mb\";\"\u001b[0m\u001b[0;34m,\u001b[0m \u001b[0;36m1\u001b[0m\u001b[0;34m)\u001b[0m\u001b[0;34m[\u001b[0m\u001b[0;36m0\u001b[0m\u001b[0;34m]\u001b[0m\u001b[0;34m\u001b[0m\u001b[0;34m\u001b[0m\u001b[0m\n\u001b[1;32m    696\u001b[0m         \u001b[0;32mtry\u001b[0m\u001b[0;34m:\u001b[0m\u001b[0;34m\u001b[0m\u001b[0;34m\u001b[0m\u001b[0m\n",
      "\u001b[0;32m/usr/local/anaconda3/lib/python3.7/socket.py\u001b[0m in \u001b[0;36mreadinto\u001b[0;34m(self, b)\u001b[0m\n\u001b[1;32m    587\u001b[0m         \u001b[0;32mwhile\u001b[0m \u001b[0;32mTrue\u001b[0m\u001b[0;34m:\u001b[0m\u001b[0;34m\u001b[0m\u001b[0;34m\u001b[0m\u001b[0m\n\u001b[1;32m    588\u001b[0m             \u001b[0;32mtry\u001b[0m\u001b[0;34m:\u001b[0m\u001b[0;34m\u001b[0m\u001b[0;34m\u001b[0m\u001b[0m\n\u001b[0;32m--> 589\u001b[0;31m                 \u001b[0;32mreturn\u001b[0m \u001b[0mself\u001b[0m\u001b[0;34m.\u001b[0m\u001b[0m_sock\u001b[0m\u001b[0;34m.\u001b[0m\u001b[0mrecv_into\u001b[0m\u001b[0;34m(\u001b[0m\u001b[0mb\u001b[0m\u001b[0;34m)\u001b[0m\u001b[0;34m\u001b[0m\u001b[0;34m\u001b[0m\u001b[0m\n\u001b[0m\u001b[1;32m    590\u001b[0m             \u001b[0;32mexcept\u001b[0m \u001b[0mtimeout\u001b[0m\u001b[0;34m:\u001b[0m\u001b[0;34m\u001b[0m\u001b[0;34m\u001b[0m\u001b[0m\n\u001b[1;32m    591\u001b[0m                 \u001b[0mself\u001b[0m\u001b[0;34m.\u001b[0m\u001b[0m_timeout_occurred\u001b[0m \u001b[0;34m=\u001b[0m \u001b[0;32mTrue\u001b[0m\u001b[0;34m\u001b[0m\u001b[0;34m\u001b[0m\u001b[0m\n",
      "\u001b[0;32m/usr/local/anaconda3/lib/python3.7/ssl.py\u001b[0m in \u001b[0;36mrecv_into\u001b[0;34m(self, buffer, nbytes, flags)\u001b[0m\n\u001b[1;32m   1069\u001b[0m                   \u001b[0;34m\"non-zero flags not allowed in calls to recv_into() on %s\"\u001b[0m \u001b[0;34m%\u001b[0m\u001b[0;34m\u001b[0m\u001b[0;34m\u001b[0m\u001b[0m\n\u001b[1;32m   1070\u001b[0m                   self.__class__)\n\u001b[0;32m-> 1071\u001b[0;31m             \u001b[0;32mreturn\u001b[0m \u001b[0mself\u001b[0m\u001b[0;34m.\u001b[0m\u001b[0mread\u001b[0m\u001b[0;34m(\u001b[0m\u001b[0mnbytes\u001b[0m\u001b[0;34m,\u001b[0m \u001b[0mbuffer\u001b[0m\u001b[0;34m)\u001b[0m\u001b[0;34m\u001b[0m\u001b[0;34m\u001b[0m\u001b[0m\n\u001b[0m\u001b[1;32m   1072\u001b[0m         \u001b[0;32melse\u001b[0m\u001b[0;34m:\u001b[0m\u001b[0;34m\u001b[0m\u001b[0;34m\u001b[0m\u001b[0m\n\u001b[1;32m   1073\u001b[0m             \u001b[0;32mreturn\u001b[0m \u001b[0msuper\u001b[0m\u001b[0;34m(\u001b[0m\u001b[0;34m)\u001b[0m\u001b[0;34m.\u001b[0m\u001b[0mrecv_into\u001b[0m\u001b[0;34m(\u001b[0m\u001b[0mbuffer\u001b[0m\u001b[0;34m,\u001b[0m \u001b[0mnbytes\u001b[0m\u001b[0;34m,\u001b[0m \u001b[0mflags\u001b[0m\u001b[0;34m)\u001b[0m\u001b[0;34m\u001b[0m\u001b[0;34m\u001b[0m\u001b[0m\n",
      "\u001b[0;32m/usr/local/anaconda3/lib/python3.7/ssl.py\u001b[0m in \u001b[0;36mread\u001b[0;34m(self, len, buffer)\u001b[0m\n\u001b[1;32m    927\u001b[0m         \u001b[0;32mtry\u001b[0m\u001b[0;34m:\u001b[0m\u001b[0;34m\u001b[0m\u001b[0;34m\u001b[0m\u001b[0m\n\u001b[1;32m    928\u001b[0m             \u001b[0;32mif\u001b[0m \u001b[0mbuffer\u001b[0m \u001b[0;32mis\u001b[0m \u001b[0;32mnot\u001b[0m \u001b[0;32mNone\u001b[0m\u001b[0;34m:\u001b[0m\u001b[0;34m\u001b[0m\u001b[0;34m\u001b[0m\u001b[0m\n\u001b[0;32m--> 929\u001b[0;31m                 \u001b[0;32mreturn\u001b[0m \u001b[0mself\u001b[0m\u001b[0;34m.\u001b[0m\u001b[0m_sslobj\u001b[0m\u001b[0;34m.\u001b[0m\u001b[0mread\u001b[0m\u001b[0;34m(\u001b[0m\u001b[0mlen\u001b[0m\u001b[0;34m,\u001b[0m \u001b[0mbuffer\u001b[0m\u001b[0;34m)\u001b[0m\u001b[0;34m\u001b[0m\u001b[0;34m\u001b[0m\u001b[0m\n\u001b[0m\u001b[1;32m    930\u001b[0m             \u001b[0;32melse\u001b[0m\u001b[0;34m:\u001b[0m\u001b[0;34m\u001b[0m\u001b[0;34m\u001b[0m\u001b[0m\n\u001b[1;32m    931\u001b[0m                 \u001b[0;32mreturn\u001b[0m \u001b[0mself\u001b[0m\u001b[0;34m.\u001b[0m\u001b[0m_sslobj\u001b[0m\u001b[0;34m.\u001b[0m\u001b[0mread\u001b[0m\u001b[0;34m(\u001b[0m\u001b[0mlen\u001b[0m\u001b[0;34m)\u001b[0m\u001b[0;34m\u001b[0m\u001b[0;34m\u001b[0m\u001b[0m\n",
      "\u001b[0;31mKeyboardInterrupt\u001b[0m: "
     ]
    }
   ],
   "source": [
    "stream = MyStream(bearer_token=credentials.BEARER_TOKEN)\n",
    "stream.manage_rules(rules=rules)\n",
    "stream.search_stream(return_json=True)\n",
    "# stream.sample_stream(return_json=True)"
   ]
  },
  {
   "cell_type": "code",
   "execution_count": null,
   "metadata": {},
   "outputs": [],
   "source": []
  }
 ],
 "metadata": {
  "kernelspec": {
   "display_name": "Python 3.7.10 ('base')",
   "language": "python",
   "name": "python3"
  },
  "language_info": {
   "codemirror_mode": {
    "name": "ipython",
    "version": 3
   },
   "file_extension": ".py",
   "mimetype": "text/x-python",
   "name": "python",
   "nbconvert_exporter": "python",
   "pygments_lexer": "ipython3",
   "version": "3.7.10"
  },
  "orig_nbformat": 4,
  "vscode": {
   "interpreter": {
    "hash": "3067ead486e059ec00ffe7555bdb889e6e264a24dc711bf108106cc7baee8d5d"
   }
  }
 },
 "nbformat": 4,
 "nbformat_minor": 2
}
